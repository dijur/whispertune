{
 "cells": [
  {
   "cell_type": "markdown",
   "id": "8405ef74",
   "metadata": {},
   "source": [
    "# Synthetic Data Generation\n",
    "This notebook demonstrates how to generate synthetic speech data using the VITS model."
   ]
  },
  {
   "cell_type": "code",
   "execution_count": null,
   "id": "021ddfa8",
   "metadata": {},
   "outputs": [],
   "source": [
    "import sys\n",
    "sys.path.append('../')\n",
    "\n",
    "from src.data.synthetic_data import SyntheticDataGenerator"
   ]
  },
  {
   "cell_type": "code",
   "execution_count": null,
   "id": "dbd26194",
   "metadata": {},
   "outputs": [],
   "source": [
    "# Example single text generation\n",
    "text = \"Салом алейкум\"\n",
    "output_path = \"../data/test_audio.wav\"\n",
    "generator.generate_audio(text, output_path)"
   ]
  },
  {
   "cell_type": "code",
   "execution_count": null,
   "id": "4de1a7f5",
   "metadata": {},
   "outputs": [],
   "source": [
    "# Batch processing example\n",
    "input_file = \"../data/raw/texts.txt\"\n",
    "output_dir = \"../data/synthetic/\"\n",
    "json_output = \"../data/synthetic/metadata.jsonl\"\n",
    "\n",
    "generator.process_text_corpus(\n",
    "    input_file=input_file,\n",
    "    output_dir=output_dir,\n",
    "    json_output=json_output,\n",
    "    batch_size=16\n",
    ")"
   ]
  },
  {
   "cell_type": "markdown",
   "id": "f6b7cdee",
   "metadata": {},
   "source": [
    "# Synthetic Data Quality Analysis\n",
    "Analyze the quality of generated synthetic speech data."
   ]
  },
  {
   "cell_type": "code",
   "execution_count": null,
   "id": "0b106628",
   "metadata": {},
   "outputs": [],
   "source": [
    "import matplotlib.pyplot as plt\n",
    "import seaborn as sns\n",
    "\n",
    "# Generate and analyze synthetic samples\n",
    "quality_metrics = []\n",
    "for text in test_texts:\n",
    "    audio_path = generator.generate_audio(text, 'temp.wav')\n",
    "    audio, sr = librosa.load(audio_path)\n",
    "    metrics = generator.evaluate_audio_quality(audio, sr)\n",
    "    quality_metrics.append(metrics)\n",
    "\n",
    "# Plot quality metrics distribution\n",
    "df = pd.DataFrame(quality_metrics)\n",
    "sns.boxplot(data=df)\n",
    "plt.title('Distribution of Audio Quality Metrics')\n",
    "plt.show()"
   ]
  }
 ],
 "metadata": {
  "language_info": {
   "name": "python"
  }
 },
 "nbformat": 4,
 "nbformat_minor": 5
}
