{
 "cells": [
  {
   "cell_type": "markdown",
   "id": "f1123c1a",
   "metadata": {},
   "source": [
    "# Complete Pipeline\n",
    "This notebook demonstrates the complete pipeline from data generation to evaluation."
   ]
  },
  {
   "cell_type": "code",
   "execution_count": null,
   "id": "835f3cf8",
   "metadata": {},
   "outputs": [],
   "source": [
    "import sys\n",
    "sys.path.append('../')\n",
    "\n",
    "from src.data.synthetic_data import SyntheticDataGenerator\n",
    "from src.utils.metrics import ASRMetrics"
   ]
  },
  {
   "cell_type": "code",
   "execution_count": null,
   "id": "f97b2fbc",
   "metadata": {},
   "outputs": [],
   "source": [
    "# 1. Generate synthetic data\n",
    "config = {}\n",
    "generator = SyntheticDataGenerator(config)\n",
    "\n",
    "# Generate a small test set\n",
    "test_texts = [\"салом алейкум\", \"хуш омадед\"]\n",
    "generated_audio = []\n",
    "\n",
    "for idx, text in enumerate(test_texts):\n",
    "    output_path = f\"../data/test/test_{idx}.wav\"\n",
    "    generator.generate_audio(text, output_path)\n",
    "    generated_audio.append(output_path)"
   ]
  },
  {
   "cell_type": "code",
   "execution_count": null,
   "id": "0b627396",
   "metadata": {},
   "outputs": [],
   "source": [
    "# 2. Evaluate metrics\n",
    "# Here you would typically run your ASR model on generated_audio\n",
    "# For demonstration, we'll use mock ASR results\n",
    "asr_results = [\"салом алекум\", \"хуш омадед\"]\n",
    "\n",
    "metrics = ASRMetrics.print_metrics(test_texts, asr_results)\n",
    "print(\"\\nFinal evaluation metrics:\", metrics)"
   ]
  }
 ],
 "metadata": {
  "language_info": {
   "name": "python"
  }
 },
 "nbformat": 4,
 "nbformat_minor": 5
}
