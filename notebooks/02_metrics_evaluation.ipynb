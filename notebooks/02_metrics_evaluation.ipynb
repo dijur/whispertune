{
 "cells": [
  {
   "cell_type": "markdown",
   "id": "856959a9",
   "metadata": {},
   "source": [
    "# ASR Metrics Evaluation\n",
    "This notebook demonstrates how to evaluate ASR metrics like WER and CER."
   ]
  },
  {
   "cell_type": "code",
   "execution_count": null,
   "id": "984eeae1",
   "metadata": {},
   "outputs": [],
   "source": [
    "import sys\n",
    "sys.path.append('../')\n",
    "\n",
    "from src.utils.metrics import ASRMetrics"
   ]
  },
  {
   "cell_type": "code",
   "execution_count": null,
   "id": "812a8b5e",
   "metadata": {},
   "outputs": [],
   "source": [
    "# Example evaluation\n",
    "references = [\n",
    "    \"салом алейкум\",\n",
    "    \"хуш омадед\"\n",
    "]\n",
    "\n",
    "hypotheses = [\n",
    "    \"салом алекум\",\n",
    "    \"хуш омадед\"\n",
    "]\n",
    "\n",
    "metrics = ASRMetrics.print_metrics(references, hypotheses)\n",
    "print(\"\\nDetailed metrics:\", metrics)"
   ]
  }
 ],
 "metadata": {
  "language_info": {
   "name": "python"
  }
 },
 "nbformat": 4,
 "nbformat_minor": 5
}
